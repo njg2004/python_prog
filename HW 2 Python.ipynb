{
 "cells": [
  {
   "cell_type": "code",
   "execution_count": 5,
   "id": "c23fd837-fe2c-42e1-adbd-cdaa67d813ed",
   "metadata": {},
   "outputs": [
    {
     "name": "stdout",
     "output_type": "stream",
     "text": [
      "a\n",
      "b\n",
      "c\n"
     ]
    }
   ],
   "source": [
    "li=['a','b','c',1,2]\n",
    "for i in li:\n",
    "    if isinstance(i, str):\n",
    "        print(i)\n",
    "        "
   ]
  },
  {
   "cell_type": "code",
   "execution_count": 12,
   "id": "9520e107-dd11-4176-bce1-77fa0ef86681",
   "metadata": {},
   "outputs": [
    {
     "name": "stdout",
     "output_type": "stream",
     "text": [
      "{'u'}\n",
      "{'a'}\n",
      "{'a'}\n",
      "{'i'}\n",
      "{'a'}\n",
      "{'i'}\n"
     ]
    }
   ],
   "source": [
    "strval=\"Gujarat Vidyapith\"\n",
    "strval1=set(strval)\n",
    "\n",
    "storevow=[]\n",
    "vow=\"aeiouAEIOU\"\n",
    "vow1=set(vow)\n",
    "setvow=set(vow)\n",
    "for i in strval1:\n",
    "    for k in setvow1:\n",
    "        if(strval1[i]==vow1[]):\n",
    "            print(set(i))"
   ]
  },
  {
   "cell_type": "code",
   "execution_count": 1,
   "id": "4a9b9f3c-6f1e-4014-9cd7-e6c866370674",
   "metadata": {},
   "outputs": [
    {
     "name": "stdout",
     "output_type": "stream",
     "text": [
      "{1: 1, 2: 4, 3: 9, 4: 16, 5: 25}\n"
     ]
    }
   ],
   "source": [
    "ict_val={x: x*x for x in range(1,6)}\n",
    "print(ict_val)"
   ]
  },
  {
   "cell_type": "code",
   "execution_count": 2,
   "id": "bd3d5091-84ea-489c-81a0-8d304763e8fe",
   "metadata": {},
   "outputs": [
    {
     "name": "stdout",
     "output_type": "stream",
     "text": [
      "1 : 1\n",
      "2 : 4\n",
      "3 : 9\n",
      "4 : 16\n",
      "5 : 25\n"
     ]
    }
   ],
   "source": []
  },
  {
   "cell_type": "code",
   "execution_count": 1,
   "id": "70b01024-9e80-4660-b720-7f13459daefe",
   "metadata": {},
   "outputs": [
    {
     "name": "stdout",
     "output_type": "stream",
     "text": [
      "{1: 1, 2: 4, 3: 9, 4: 16, 5: 25}\n"
     ]
    }
   ],
   "source": [
    "new_Dict={}\n",
    "for i in range(1,6):\n",
    "    new_Dict[i] =  i**2\n",
    "print(new_Dict)"
   ]
  },
  {
   "cell_type": "code",
   "execution_count": 21,
   "id": "33c9803e-b164-48e5-b19d-6f4b1e64070b",
   "metadata": {},
   "outputs": [
    {
     "name": "stdin",
     "output_type": "stream",
     "text": [
      "Enter any number : 49\n"
     ]
    },
    {
     "name": "stdout",
     "output_type": "stream",
     "text": [
      "Not a prime number\n"
     ]
    }
   ],
   "source": [
    "#check prime number\n",
    "no=int(input(\"Enter any number :\"))\n",
    "def checkPrime(no):\n",
    "    for i in range(2,int(no/2)+1):\n",
    "        if no%i==0:\n",
    "            return True\n",
    "    return False\n",
    "if checkPrime(no):\n",
    "    print(\"Not a prime number\")\n",
    "else:\n",
    "    print(\"It is a prime number\")"
   ]
  },
  {
   "cell_type": "code",
   "execution_count": 11,
   "id": "9bceb7df-c1a4-415d-b6cc-7ed837c6906f",
   "metadata": {},
   "outputs": [
    {
     "name": "stdout",
     "output_type": "stream",
     "text": [
      "{1: 2}\n"
     ]
    }
   ],
   "source": [
    "a=dict([(1,2)])\n",
    "print(a)\n",
    "b=dict(an)"
   ]
  },
  {
   "cell_type": "code",
   "execution_count": 24,
   "id": "2c19b7e7-c343-4146-8e2a-f86774f412e4",
   "metadata": {},
   "outputs": [
    {
     "name": "stdout",
     "output_type": "stream",
     "text": [
      "Sum of Positive number : 100.0\n",
      "Sum of negative number : -82\n"
     ]
    }
   ],
   "source": [
    "# Sum of positive number, sum of negative number\n",
    "li=[-26,-56,50,45.5,4.5]\n",
    "posSum,negSum=0,0\n",
    "for i in li:\n",
    "    if i<0:\n",
    "        negSum+=i\n",
    "    else:\n",
    "        posSum+=i\n",
    "print(\"Sum of Positive number :\",posSum)\n",
    "print(\"Sum of negative number :\",negSum)"
   ]
  },
  {
   "cell_type": "code",
   "execution_count": 44,
   "id": "13ff9540-4921-4693-98d6-4dc4f6302a4a",
   "metadata": {},
   "outputs": [
    {
     "name": "stdin",
     "output_type": "stream",
     "text": [
      "Enter times number : 4\n",
      " 45\n",
      " 45\n",
      " 45\n",
      " 65\n"
     ]
    },
    {
     "name": "stdout",
     "output_type": "stream",
     "text": [
      "List is : [45, 45, 45, 65]\n",
      "Length of list (method 1) : 4\n",
      "Length of list (method 2) : 4\n",
      "Sum of element of list : 200\n"
     ]
    }
   ],
   "source": [
    "# take the element n times and insert(append) a  list and print the all element of list and thier print sum, length of list\n",
    "timeNo=int(input(\"Enter times number :\"))\n",
    "li=[]\n",
    "for i in range(timeNo):\n",
    "    no=int(input())\n",
    "    li.append(no)\n",
    "print(\"List is :\",li)\n",
    "print(\"Length of list (method 1) :\",len(li))\n",
    "print(\"Length of list (method 2) :\",timeNo)\n",
    "\n",
    "#summation or addition\n",
    "sum=0\n",
    "for i in li:\n",
    "    sum+=i\n",
    "print(\"Sum of element of list :\",sum)"
   ]
  },
  {
   "cell_type": "code",
   "execution_count": 48,
   "id": "27bd536f-6342-463c-81a3-77609059d96b",
   "metadata": {},
   "outputs": [
    {
     "name": "stdin",
     "output_type": "stream",
     "text": [
      "Enter times number : 4\n",
      " 45\n",
      " 45\n",
      " 55\n",
      " 55\n"
     ]
    },
    {
     "name": "stdout",
     "output_type": "stream",
     "text": [
      "Set element is : {45, 55}\n",
      "Length of set : 2\n",
      "Sum of element of set : 100\n"
     ]
    }
   ],
   "source": [
    "# take the element n times and insert(append) a  empty set and print the all element of set and thier print sum, length of set\n",
    "timeNo=int(input(\"Enter times number :\"))\n",
    "li=set()\n",
    "for i in range(timeNo):\n",
    "    no=int(input())\n",
    "    li.add(no)\n",
    "print(\"Set element is :\",li)\n",
    "print(\"Length of set :\",len(li))\n",
    "\n",
    "#summation\n",
    "sum=0\n",
    "for i in li:\n",
    "    sum+=i\n",
    "print(\"Sum of element of set :\",sum)"
   ]
  }
 ],
 "metadata": {
  "kernelspec": {
   "display_name": "Python 3 (ipykernel)",
   "language": "python",
   "name": "python3"
  },
  "language_info": {
   "codemirror_mode": {
    "name": "ipython",
    "version": 3
   },
   "file_extension": ".py",
   "mimetype": "text/x-python",
   "name": "python",
   "nbconvert_exporter": "python",
   "pygments_lexer": "ipython3",
   "version": "3.12.2"
  }
 },
 "nbformat": 4,
 "nbformat_minor": 5
}
