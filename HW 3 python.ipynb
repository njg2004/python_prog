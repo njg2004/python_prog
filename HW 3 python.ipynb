{
 "cells": [
  {
   "cell_type": "code",
   "execution_count": 1,
   "id": "56f06240-b343-4a16-8d0b-997b70a6f6f1",
   "metadata": {},
   "outputs": [
    {
     "name": "stdout",
     "output_type": "stream",
     "text": [
      "2\n"
     ]
    }
   ],
   "source": [
    "a = \"Gujarat Vidyapith\"\n",
    "def countV(a):\n",
    "    words = a.split()\n",
    "    return len(words)\n",
    "\n",
    "print(countV(a))"
   ]
  },
  {
   "cell_type": "code",
   "execution_count": 8,
   "id": "30939844-9480-4ed7-8d27-6130c989083a",
   "metadata": {},
   "outputs": [
    {
     "name": "stdin",
     "output_type": "stream",
     "text": [
      "Have you number : 4\n",
      "Enter the numbers : 45\n",
      "Enter the numbers : 78\n",
      "Enter the numbers : 41\n",
      "Enter the numbers : 12\n"
     ]
    },
    {
     "name": "stdout",
     "output_type": "stream",
     "text": [
      "Your List is : [45, 78, 41, 12]\n",
      "Odd Number : 45\n",
      "Even Number : 78\n",
      "Odd Number : 41\n",
      "Even Number : 12\n"
     ]
    }
   ],
   "source": [
    "li=[]\n",
    "timesNo=int(input(\"Have you number :\"))\n",
    "for i in range(timesNo):\n",
    "    inputNo=int(input(\"Enter the numbers :\"))\n",
    "    li.append(inputNo)\n",
    "    \n",
    "def oddEven(no):\n",
    "    for i in no:\n",
    "        if(i%2==0):\n",
    "            print(\"Even Number :\",i)\n",
    "        else:\n",
    "            print(\"Odd Number :\",i)           \n",
    "print(\"Your List is :\",li)\n",
    "oddEven(li)"
   ]
  },
  {
   "cell_type": "code",
   "execution_count": 57,
   "id": "d63da569-dd3b-4232-94d6-561bbfa9198e",
   "metadata": {},
   "outputs": [
    {
     "name": "stdout",
     "output_type": "stream",
     "text": [
      "3.5\n",
      "Mean value is : 3.50\n"
     ]
    }
   ],
   "source": [
    "# Find the mean\n",
    "li=[1,2,3,4,5,6]\n",
    "def meanVal():\n",
    "    sum=0    \n",
    "    for i in li:  \n",
    "        sum+=i \n",
    "    mean=sum/len(li)\n",
    "    return mean\n",
    "res=meanVal()\n",
    "\n",
    "print(res)\n",
    "print(\"Mean value is :\",f\"{res:.2f}\")"
   ]
  },
  {
   "cell_type": "code",
   "execution_count": 55,
   "id": "4e4d9c7c-9cf7-4dec-9aa5-4008000318de",
   "metadata": {},
   "outputs": [
    {
     "name": "stdout",
     "output_type": "stream",
     "text": [
      "Median value is : 4\n"
     ]
    }
   ],
   "source": [
    "# Find the median\n",
    "li=[1,2,3,4,5,6,7]\n",
    "def median():\n",
    "    if len(li)%2!=0:\n",
    "        half=int(len(li)/2)\n",
    "        res=li[half]\n",
    "        return res\n",
    "    else:\n",
    "        half1=int(len(li)/2)\n",
    "        half2=int(len(li)/2)-1\n",
    "        res=int(li[half1]+li[half2])/2\n",
    "        return res\n",
    "print(\"Median value is :\",median())\n",
    "            \n",
    "    "
   ]
  },
  {
   "cell_type": "code",
   "execution_count": 1,
   "id": "6d012f7f-ee3a-43fa-a15c-35258db61d19",
   "metadata": {},
   "outputs": [
    {
     "name": "stdout",
     "output_type": "stream",
     "text": [
      "The mode value is: 12\n"
     ]
    }
   ],
   "source": [
    "\n",
    "import statistics\n",
    "\n",
    "li = [12, 12, 14, 15]\n",
    "mode_value = statistics.mode(li)\n",
    "print(\"The mode value is:\", mode_value)\n"
   ]
  },
  {
   "cell_type": "code",
   "execution_count": null,
   "id": "8098bfd8-d6b4-4a10-81b8-22dcabffb072",
   "metadata": {},
   "outputs": [],
   "source": []
  }
 ],
 "metadata": {
  "kernelspec": {
   "display_name": "Python 3 (ipykernel)",
   "language": "python",
   "name": "python3"
  },
  "language_info": {
   "codemirror_mode": {
    "name": "ipython",
    "version": 3
   },
   "file_extension": ".py",
   "mimetype": "text/x-python",
   "name": "python",
   "nbconvert_exporter": "python",
   "pygments_lexer": "ipython3",
   "version": "3.12.2"
  }
 },
 "nbformat": 4,
 "nbformat_minor": 5
}
