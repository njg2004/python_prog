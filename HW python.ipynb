{
 "cells": [
  {
   "cell_type": "code",
   "execution_count": 1,
   "id": "96a5d9ce-5c01-418b-bae8-7c7dd9da0626",
   "metadata": {},
   "outputs": [
    {
     "name": "stdout",
     "output_type": "stream",
     "text": [
      "55\n"
     ]
    }
   ],
   "source": [
    "sum=0\n",
    "for i in range(11):\n",
    "    sum+=i\n",
    "print(sum)"
   ]
  },
  {
   "cell_type": "code",
   "execution_count": 5,
   "id": "c89eeca6-b3ae-4aa7-baba-734b4e9d207e",
   "metadata": {},
   "outputs": [
    {
     "name": "stdout",
     "output_type": "stream",
     "text": [
      "5\n",
      "ee\n",
      "ccc\n"
     ]
    }
   ],
   "source": [
    "x=['a',['bb',['ccc','ddd'],'ee','ff'],'g',['hh','ii'],'j']\n",
    "print(len(x))\n",
    "print(x[1][1:3][1])\n",
    "print(x[1][1:3][0][0])"
   ]
  },
  {
   "cell_type": "code",
   "execution_count": 6,
   "id": "ac64d592-9623-4cad-ac86-193eb9e8528c",
   "metadata": {},
   "outputs": [
    {
     "name": "stdout",
     "output_type": "stream",
     "text": [
      "(2, 3, 4, 4, 5, 6)\n"
     ]
    }
   ],
   "source": [
    "tup1=(2,3,4)\n",
    "tup2=(4,5,6)\n",
    "tup=tup1+tup2\n",
    "print(tup)"
   ]
  },
  {
   "cell_type": "code",
   "execution_count": 9,
   "id": "ce5bab88-a9bd-41c1-9aab-56c887ed3a7c",
   "metadata": {},
   "outputs": [
    {
     "name": "stdout",
     "output_type": "stream",
     "text": [
      "set()\n"
     ]
    }
   ],
   "source": [
    "s=set([])\n",
    "print(s)"
   ]
  },
  {
   "cell_type": "code",
   "execution_count": 1,
   "id": "48698833-a1d2-4743-902c-2b6ab2bd8096",
   "metadata": {},
   "outputs": [
    {
     "name": "stdout",
     "output_type": "stream",
     "text": [
      "{1: 1, 2: 4, 3: 9, 4: 16, 5: 25}\n"
     ]
    }
   ],
   "source": [
    "dict_val={}\n",
    "i=1\n",
    "while i<=5:\n",
    "    dict_val[i]=i**2\n",
    "    i+=1\n",
    "print(dict_val)"
   ]
  },
  {
   "cell_type": "code",
   "execution_count": 2,
   "id": "b21487bb-c6e5-4954-b6fd-36e7d796cb6f",
   "metadata": {},
   "outputs": [
    {
     "name": "stdout",
     "output_type": "stream",
     "text": [
      "{1: 1, 2: 4, 3: 9, 4: 16, 5: 25}\n"
     ]
    }
   ],
   "source": [
    "dict_val={}\n",
    "for i in range(1,6):\n",
    "    dict_val[i]=i**2\n",
    "print(dict_val)"
   ]
  },
  {
   "cell_type": "code",
   "execution_count": null,
   "id": "b3a7fb8e-7c77-420d-aa07-63f0b6cf37ce",
   "metadata": {},
   "outputs": [],
   "source": [
    "#all program of python book"
   ]
  },
  {
   "cell_type": "code",
   "execution_count": 3,
   "id": "8d6c10bc-e9aa-481d-a2f7-326347bf8d21",
   "metadata": {},
   "outputs": [
    {
     "name": "stdout",
     "output_type": "stream",
     "text": [
      "Positive Number : 2\n",
      "Negative number : -2\n",
      "Negative number : -2.5\n",
      "Positive Number : 78\n",
      "Zero number : 0\n",
      "Positive Number : 89\n"
     ]
    }
   ],
   "source": [
    "#print the negative number from a given sequences\n",
    "li=[2,-2,-2.5,78,0,89]\n",
    "for i in li:\n",
    "    if(i<0):\n",
    "        print(\"Negative number :\",i)\n",
    "    elif(i>0):\n",
    "        print(\"Positive Number :\",i)\n",
    "    else:\n",
    "        print(\"Zero number :\",i)\n"
   ]
  },
  {
   "cell_type": "code",
   "execution_count": 10,
   "id": "2c3b6f80-b2a9-4603-b901-b235502f5482",
   "metadata": {},
   "outputs": [
    {
     "name": "stdout",
     "output_type": "stream",
     "text": [
      "Logest Name : North America\n",
      "Shortest Name : Asia\n"
     ]
    }
   ],
   "source": [
    "#Find the continents with the logest name\n",
    "continents=[\"Africa\",\"Antartica\",\"Asia\",\"Australia\",\"Europe\",\"North America\",\"South America\"]\n",
    "longName=0\n",
    "shortName=999\n",
    "for i in continents:\n",
    "    if longName<len(i):\n",
    "        longName=len(i)\n",
    "        longest=i\n",
    "    elif shortName>len(i):\n",
    "        shortName=len(i)\n",
    "        shortest = i\n",
    "print(\"Logest Name :\",longest)\n",
    "print(\"Shortest Name :\",shortest)\n",
    "    "
   ]
  },
  {
   "cell_type": "code",
   "execution_count": 8,
   "id": "d58e6b98-2d8a-4f08-bc10-e5cd09f098c5",
   "metadata": {},
   "outputs": [
    {
     "name": "stdout",
     "output_type": "stream",
     "text": [
      "0 1 1 2 3 5 8 13 21 34 "
     ]
    }
   ],
   "source": [
    "#Fobonacci Series\n",
    "a,b=0,1\n",
    "for i in range(10):\n",
    "    print(a, end=\" \")\n",
    "    a,b=b,a+b\n",
    "    \n",
    "    "
   ]
  },
  {
   "cell_type": "code",
   "execution_count": null,
   "id": "b85e6cf3-0e29-4530-85a7-8cef2f893b81",
   "metadata": {},
   "outputs": [],
   "source": [
    "# Addition of all element of list\n",
    "liNo=[5,10,-2,13]\n",
    "sum=0\n",
    "for i in liNo:\n",
    "    sum+=i\n",
    "print(\"Total sum :\",sum)"
   ]
  },
  {
   "cell_type": "code",
   "execution_count": 12,
   "id": "93b2d95d-bf9c-46f6-b45d-e27398ac9cb8",
   "metadata": {},
   "outputs": [
    {
     "name": "stdout",
     "output_type": "stream",
     "text": [
      "Total sum : 26\n"
     ]
    }
   ],
   "source": [
    "# Addition of all element of list (only integer number)\n",
    "liNo=[5,10,-2,13,'a','b']\n",
    "sum=0\n",
    "for i in liNo:\n",
    "    if isinstance(i,int):\n",
    "        sum+=i\n",
    "print(\"Total sum :\",sum)"
   ]
  },
  {
   "cell_type": "code",
   "execution_count": 13,
   "id": "83daaace-fb48-481c-81ff-714ea31880bf",
   "metadata": {},
   "outputs": [
    {
     "name": "stdout",
     "output_type": "stream",
     "text": [
      "Odd : 1\n",
      "Even : 4\n",
      "Even : 24\n",
      "Odd : 35\n",
      "Odd : 67\n",
      "Odd : 99\n",
      "Even : 22\n"
     ]
    }
   ],
   "source": [
    "# Find odd and even number in below list\n",
    "li=['a','ram',1,4,24,35,67,99,22]\n",
    "for i in li:\n",
    "    if isinstance(i, int):\n",
    "        if i%2==0:\n",
    "            print(\"Even :\",i)\n",
    "        else:\n",
    "            print(\"Odd :\",i)\n"
   ]
  },
  {
   "cell_type": "code",
   "execution_count": null,
   "id": "cdf3d7d9-ba4f-4c27-9041-0a7f1bfee6f4",
   "metadata": {},
   "outputs": [],
   "source": []
  },
  {
   "cell_type": "code",
   "execution_count": 14,
   "id": "8fe6d5f5-9794-4b07-87f3-f313f6eee7f2",
   "metadata": {},
   "outputs": [
    {
     "name": "stdout",
     "output_type": "stream",
     "text": [
      "Odd : 1\n",
      "Even : 4\n",
      "Even : 24\n",
      "Odd : 35\n",
      "Odd : 67\n",
      "Odd : 99\n",
      "Even : 22\n"
     ]
    }
   ],
   "source": [
    "# Find odd and even number in below list\n",
    "li=[1,4,24,35,67,99,22]\n",
    "for i in li:    \n",
    "    if i%2==0:\n",
    "        print(\"Even :\",i)\n",
    "    else:\n",
    "        print(\"Odd :\",i)\n"
   ]
  },
  {
   "cell_type": "code",
   "execution_count": 15,
   "id": "1505e46f-7a32-4649-a448-e3b4b0864724",
   "metadata": {},
   "outputs": [
    {
     "name": "stdout",
     "output_type": "stream",
     "text": [
      "Even : a\n",
      "Odd : ram\n",
      "Even : b\n",
      "Odd : e\n"
     ]
    }
   ],
   "source": [
    "# Find odd and even number in below list\n",
    "li=['a','ram','b','e']\n",
    "for i in range(len(li)):\n",
    "    if i%2==0:\n",
    "        print(\"Even :\",li[i])\n",
    "    else:\n",
    "        print(\"Odd :\",li[i])\n",
    "    \n"
   ]
  },
  {
   "cell_type": "code",
   "execution_count": null,
   "id": "a7ca88f1-bf03-4f1a-99a5-c3cf51040eea",
   "metadata": {},
   "outputs": [],
   "source": [
    "#check prime number\n",
    "no=int(input(\"Enter any number :\"))\n",
    "def checkPrime(no):\n",
    "    for i in range(2,int(no/2)+1):\n",
    "        if no%i==0:\n",
    "            return True\n",
    "    return False\n",
    "if checkPrime(no):\n",
    "    print(\"Not a prime number\")\n",
    "else:\n",
    "    print(\"It is a prime number\")"
   ]
  },
  {
   "cell_type": "code",
   "execution_count": null,
   "id": "60c04107-c2da-4882-a38e-44d94aaa7f6c",
   "metadata": {},
   "outputs": [],
   "source": []
  }
 ],
 "metadata": {
  "kernelspec": {
   "display_name": "Python 3 (ipykernel)",
   "language": "python",
   "name": "python3"
  },
  "language_info": {
   "codemirror_mode": {
    "name": "ipython",
    "version": 3
   },
   "file_extension": ".py",
   "mimetype": "text/x-python",
   "name": "python",
   "nbconvert_exporter": "python",
   "pygments_lexer": "ipython3",
   "version": "3.12.2"
  }
 },
 "nbformat": 4,
 "nbformat_minor": 5
}
