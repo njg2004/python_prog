{
 "cells": [
  {
   "cell_type": "code",
   "execution_count": 1,
   "id": "e5526da3-f4eb-422c-b4c9-c8ff89cd8b09",
   "metadata": {},
   "outputs": [
    {
     "name": "stdout",
     "output_type": "stream",
     "text": [
      "0\n",
      "1\n",
      "2\n",
      "3\n",
      "4\n",
      "5\n",
      "Ram\n",
      "7\n",
      "8\n",
      "9\n",
      "10\n"
     ]
    }
   ],
   "source": [
    "# Write a python program to print 1 to 10 but when number equal to 6 then where print 'Ram' using for loop.\n",
    "for i in range(11):\n",
    "    if(i==6):\n",
    "        print(\"Ram\")\n",
    "    else:\n",
    "        print(i)"
   ]
  },
  {
   "cell_type": "code",
   "execution_count": 17,
   "id": "b4b30155-6bac-4483-ba57-0760037e0e0a",
   "metadata": {},
   "outputs": [
    {
     "name": "stdin",
     "output_type": "stream",
     "text": [
      "Enter any no :  5\n"
     ]
    },
    {
     "name": "stdout",
     "output_type": "stream",
     "text": [
      "120\n"
     ]
    }
   ],
   "source": [
    "# Write a python programm to find factorial of any number from user input using while loop.\n",
    "fact = 1\n",
    "no=int(input(\"Enter any no : \"))\n",
    "i=1\n",
    "while i<=no:\n",
    "    fact*=i\n",
    "    i+=1\n",
    "print(fact)"
   ]
  },
  {
   "cell_type": "code",
   "execution_count": 21,
   "id": "01c9c102-27a4-4184-93eb-c49ff0bce54b",
   "metadata": {},
   "outputs": [
    {
     "name": "stdin",
     "output_type": "stream",
     "text": [
      "Enter any no :  5\n"
     ]
    },
    {
     "name": "stdout",
     "output_type": "stream",
     "text": [
      "120\n"
     ]
    }
   ],
   "source": [
    "# Write a python programm to find factorial of any number from user input using for loop.\n",
    "fact=1\n",
    "no=int(input(\"Enter any no : \"))\n",
    "for b in range(1,no+1):\n",
    "    fact*=b\n",
    "print(fact)"
   ]
  },
  {
   "cell_type": "markdown",
   "id": "06b66177-aa70-4073-ac0f-3e1688e24f52",
   "metadata": {},
   "source": [
    "# 1. Program : Python Program that defines variables and prints using print function."
   ]
  },
  {
   "cell_type": "code",
   "execution_count": 9,
   "id": "2c6f3c74-910b-4bb7-80b4-963c72bf0ad7",
   "metadata": {},
   "outputs": [
    {
     "name": "stdout",
     "output_type": "stream",
     "text": [
      "Name is :  Nandji\n",
      "Number is :  100\n",
      "Float value is :  14.6\n",
      "Boolean is :  True\n"
     ]
    }
   ],
   "source": [
    "name=\"Nandji\"\n",
    "no=100\n",
    "point_val=14.6\n",
    "bool_val = True\n",
    "print(\"Name is : \",name)\n",
    "print(\"Number is : \",no)\n",
    "print(\"Float value is : \",point_val)\n",
    "print(\"Boolean is : \",bool_val)"
   ]
  },
  {
   "cell_type": "markdown",
   "id": "1dcb42b6-2109-4bac-8cca-820611cd6806",
   "metadata": {},
   "source": [
    "# 2. Program : Find the sum of the first n natural number with user input using formula n*(n+1)/2."
   ]
  },
  {
   "cell_type": "code",
   "execution_count": 2,
   "id": "63bc431d-5297-47a9-b076-df4adbab8c73",
   "metadata": {},
   "outputs": [
    {
     "name": "stdin",
     "output_type": "stream",
     "text": [
      "Enter any no :  2.5\n"
     ]
    },
    {
     "name": "stdout",
     "output_type": "stream",
     "text": [
      "4.375\n"
     ]
    }
   ],
   "source": [
    "no = float(input(\"Enter any no : \"))\n",
    "sum = no*(no+1)/2\n",
    "print(sum)"
   ]
  },
  {
   "cell_type": "markdown",
   "id": "9d8e2536-0489-4ff6-aff6-0f63b3a9cf94",
   "metadata": {},
   "source": [
    "# 3. Program : Write to a python programm to adding two number from (+,-,*,/,percentage) operator using user input (if,elif,else)."
   ]
  },
  {
   "cell_type": "code",
   "execution_count": 3,
   "id": "3ccc4e8e-f92d-48c3-ab27-4c9aa5cbfd9f",
   "metadata": {},
   "outputs": [
    {
     "name": "stdin",
     "output_type": "stream",
     "text": [
      "Enter the first number :  25\n",
      "Enter the second number :  25\n"
     ]
    },
    {
     "name": "stdout",
     "output_type": "stream",
     "text": [
      "1. Add\n",
      "2. Subs\n",
      "3. Multiply\n",
      "4. Division\n",
      "5. Percentage\n"
     ]
    },
    {
     "name": "stdin",
     "output_type": "stream",
     "text": [
      "Enter choice :  4\n"
     ]
    },
    {
     "name": "stdout",
     "output_type": "stream",
     "text": [
      "Division :  1.0\n"
     ]
    }
   ],
   "source": [
    "fn = float(input(\"Enter the first number : \"))\n",
    "sn = float(input(\"Enter the second number : \"))\n",
    "print(\"1. Add\")\n",
    "print(\"2. Subs\")\n",
    "print(\"3. Multiply\")\n",
    "print(\"4. Division\")\n",
    "print(\"5. Percentage\")\n",
    "ch = int(input(\"Enter choice : \"))\n",
    "if(ch==1):\n",
    "    print(\"Sum : \",fn+sn)\n",
    "elif(ch==2):\n",
    "    print(\"Subs : \",fn-sn)\n",
    "elif(ch==3):\n",
    "    print(\"Multiply : \",fn*sn)\n",
    "elif(ch==4):\n",
    "    print(\"Division : \",fn/sn)\n",
    "elif(ch==5):\n",
    "    print(\"Subs : \",(fn/sn)*100)\n",
    "else:\n",
    "    print(\"Invalid choice\")\n",
    "    "
   ]
  },
  {
   "cell_type": "markdown",
   "id": "12cfca00-d7a2-40d0-993d-ddb7e5e0512d",
   "metadata": {},
   "source": [
    "# 4. Program : Write to a python programm to find maximum of two number using if-else using user input."
   ]
  },
  {
   "cell_type": "code",
   "execution_count": 9,
   "id": "0bcb361a-819c-4b7b-b83f-bae6404fc7a0",
   "metadata": {},
   "outputs": [
    {
     "name": "stdin",
     "output_type": "stream",
     "text": [
      "Enter the first number :  15\n",
      "Enter the second number :  10\n"
     ]
    },
    {
     "name": "stdout",
     "output_type": "stream",
     "text": [
      "15.0\n"
     ]
    }
   ],
   "source": [
    "def maximum(a,b):\n",
    "    if(a>b):\n",
    "        return a\n",
    "    else:\n",
    "        return b\n",
    "fn = float(input(\"Enter the first number : \"))\n",
    "sn = float(input(\"Enter the second number : \"))\n",
    "print(maximum(fn,sn))"
   ]
  },
  {
   "cell_type": "markdown",
   "id": "4dddbe70-e835-4578-9e75-4f5060941557",
   "metadata": {},
   "source": [
    "# 5. Program : Write to a python programm to find the factorial of a number using recursive function."
   ]
  },
  {
   "cell_type": "code",
   "execution_count": 8,
   "id": "03057a86-6a45-4321-b7b6-9bf3eb2bf908",
   "metadata": {},
   "outputs": [
    {
     "name": "stdin",
     "output_type": "stream",
     "text": [
      "Enter the any number :  5\n"
     ]
    },
    {
     "name": "stdout",
     "output_type": "stream",
     "text": [
      "120\n"
     ]
    }
   ],
   "source": [
    "\n",
    "def fact(a):\n",
    "    if(a==0):\n",
    "        return 1   \n",
    "    else:\n",
    "        return a*fact(a-1)\n",
    "    \n",
    "a = int(input(\"Enter the any number : \"))\n",
    "result = fact(a)\n",
    "print(result)\n"
   ]
  },
  {
   "cell_type": "code",
   "execution_count": null,
   "id": "1e209f18-03dc-473c-9636-9b6da733fda5",
   "metadata": {},
   "outputs": [],
   "source": [
    "# 6. Program : Write a python program to print prime number with user input using for loop"
   ]
  },
  {
   "cell_type": "code",
   "execution_count": null,
   "id": "ad213850-27a0-4347-9365-87095e998c22",
   "metadata": {},
   "outputs": [],
   "source": [
    "no=int(input(\"Enter number :\"))\n",
    "def primeNo(no):\n",
    "    for i in range(2,no+1):\n",
    "        div=int(no/2)+1\n",
    "        if(no%y)\n",
    "        "
   ]
  },
  {
   "cell_type": "markdown",
   "id": "60dfbd34-72b0-4322-80ee-43189cf4caa2",
   "metadata": {},
   "source": [
    "# 7. Program : Write a python program to check prime number with user input using for loop"
   ]
  },
  {
   "cell_type": "code",
   "execution_count": 2,
   "id": "ab2ec9a8-8273-4eb2-96f9-849904332bff",
   "metadata": {},
   "outputs": [
    {
     "name": "stdin",
     "output_type": "stream",
     "text": [
      "Enter number : 90\n"
     ]
    },
    {
     "name": "stdout",
     "output_type": "stream",
     "text": [
      "No,This is not a prime number\n"
     ]
    },
    {
     "data": {
      "text/plain": [
       "False"
      ]
     },
     "execution_count": 2,
     "metadata": {},
     "output_type": "execute_result"
    }
   ],
   "source": [
    "no=int(input(\"Enter number :\"))\n",
    "def isPrime(no):\n",
    "    for i in range(2,int(no/2)+1):\n",
    "        if(no%i==0):\n",
    "            return False\n",
    "    return True\n",
    "\n",
    "if isPrime(no):\n",
    "    print(\"Yes, This is a Prime number.\")\n",
    "else:\n",
    "    print(\"No,This is not a prime number\")\n",
    "\n",
    "isPrime(no)\n",
    "        "
   ]
  },
  {
   "cell_type": "markdown",
   "id": "a27ab95b-2766-4ac8-b66b-50e67ac52261",
   "metadata": {},
   "source": [
    "# 8. Program : Write a python program to find the length of a string using for loop."
   ]
  },
  {
   "cell_type": "code",
   "execution_count": 8,
   "id": "4e2b7165-f5e3-43e7-9ec8-e48a5741899c",
   "metadata": {},
   "outputs": [
    {
     "name": "stdin",
     "output_type": "stream",
     "text": [
      "Enter name : hu\n"
     ]
    },
    {
     "name": "stdout",
     "output_type": "stream",
     "text": [
      "2\n"
     ]
    }
   ],
   "source": [
    "name=input(\"Enter name :\")\n",
    "def strLen(name):\n",
    "    count=0\n",
    "    for i in name:\n",
    "        count+=1\n",
    "    return count\n",
    "\n",
    "print(strLen(name))"
   ]
  },
  {
   "cell_type": "markdown",
   "id": "6e411852-c096-4b0c-81c6-105137622368",
   "metadata": {},
   "source": [
    "# 9. Program : Write a python program to concatenating String using '+' operator and without '+' operator\n"
   ]
  },
  {
   "cell_type": "code",
   "execution_count": 18,
   "id": "fe886b02-2edb-4026-960e-8f7e733f157f",
   "metadata": {},
   "outputs": [
    {
     "name": "stdin",
     "output_type": "stream",
     "text": [
      "Enter first name : ram\n",
      "Enter second name : seeta\n"
     ]
    },
    {
     "name": "stdout",
     "output_type": "stream",
     "text": [
      "Fisrt Method ramseeta\n",
      "Second Method ramseeta\n"
     ]
    }
   ],
   "source": [
    "firstName=input(\"Enter first name :\")\n",
    "secondName=input(\"Enter second name :\")\n",
    "newName=firstName+secondName\n",
    "print(\"Fisrt Method\",newName)\n",
    "print(\"Second Method\",firstName, end=\"\")\n",
    "print(secondName)"
   ]
  },
  {
   "cell_type": "markdown",
   "id": "d4a1689c-f7da-4d48-91f0-d9410840d245",
   "metadata": {},
   "source": [
    "# 10. Program : Write a python program to check if a string and number is palindrome or native approach (if-else statement for boolean result)\n"
   ]
  },
  {
   "cell_type": "code",
   "execution_count": 25,
   "id": "1cdcffa5-4be8-4c02-889c-d93f419a847d",
   "metadata": {},
   "outputs": [
    {
     "name": "stdout",
     "output_type": "stream",
     "text": [
      "1. For number\n",
      "2. For string\n"
     ]
    },
    {
     "name": "stdin",
     "output_type": "stream",
     "text": [
      "Enter your choice : 1\n",
      "Enter a number : 121\n"
     ]
    },
    {
     "name": "stdout",
     "output_type": "stream",
     "text": [
      "This is a Palindrome number\n"
     ]
    }
   ],
   "source": [
    "print(\"1. For number\")\n",
    "print(\"2. For string\")\n",
    "choice=int(input(\"Enter your choice :\"))\n",
    "if(choice==1):\n",
    "    number=input(\"Enter a number :\")\n",
    "    newNo=str(number[::-1])\n",
    "    if(number==newNo):\n",
    "        print(\"This is a Palindrome number\")\n",
    "    else:\n",
    "        print(\"This is not a palindrome number\")\n",
    "        \n",
    "elif(choice==2):\n",
    "    name=input(\"Enter a string :\")\n",
    "    newName=name[::-1]\n",
    "    if(name==newName):\n",
    "        print(\"This is a palindrome string\")\n",
    "    else:\n",
    "        print(\"This is not a palindrome string\")\n",
    "else:\n",
    "    print(\"Invalid Input choice\")"
   ]
  },
  {
   "cell_type": "markdown",
   "id": "710135e0-8e4c-4a32-b736-970320efab34",
   "metadata": {},
   "source": [
    "# 11. Program : Write a python program to String indexing and slicing by accesing individual characters using their indices(0-based).\n",
    "# as : Gujarat Vidyapith\n"
   ]
  },
  {
   "cell_type": "code",
   "execution_count": 4,
   "id": "30de6ecf-7e91-4619-adc6-5193bad88d42",
   "metadata": {},
   "outputs": [
    {
     "name": "stdin",
     "output_type": "stream",
     "text": [
      "Enter a string : ramayan\n"
     ]
    },
    {
     "name": "stdout",
     "output_type": "stream",
     "text": [
      "**************************\n",
      "Original string : ramayan\n",
      "First Character : r\n",
      "Second Character : a\n",
      "Last Character : n\n",
      "First Slice : ma\n",
      "Second Slice : ram\n",
      "Third Slice : mayan\n",
      "**************************\n"
     ]
    }
   ],
   "source": [
    "strVal=input(\"Enter a string :\")\n",
    "\n",
    "#indexing of string\n",
    "firstChar=strVal[0]\n",
    "secondChar=strVal[1]\n",
    "lastChar=strVal[-1]\n",
    "\n",
    "#slicing of string\n",
    "firstSlice=strVal[2:4]\n",
    "secondSlice=strVal[:3]\n",
    "thirdSlice=strVal[2:]\n",
    "\n",
    "print(\"**************************\")\n",
    "print(\"Original string :\",strVal)\n",
    "print(\"First Character :\",firstChar)\n",
    "print(\"Second Character :\",secondChar)\n",
    "print(\"Last Character :\",lastChar)\n",
    "\n",
    "print(\"First Slice :\",firstSlice)\n",
    "print(\"Second Slice :\",secondSlice)\n",
    "print(\"Third Slice :\",thirdSlice)\n",
    "print(\"**************************\")\n",
    "\n"
   ]
  },
  {
   "cell_type": "code",
   "execution_count": 44,
   "id": "18c3105e-8b97-44f8-9881-97c7d59bf1ec",
   "metadata": {},
   "outputs": [
    {
     "name": "stdout",
     "output_type": "stream",
     "text": [
      "* * * * * \n",
      "* * * * * \n",
      "* * * * * \n",
      "* * * * * \n",
      "* * * * * \n"
     ]
    }
   ],
   "source": [
    "# Square patten\n",
    "for i in range(5):\n",
    "    for j in range(5):\n",
    "        print(\"*\",end=\" \")\n",
    "    print()"
   ]
  },
  {
   "cell_type": "code",
   "execution_count": 9,
   "id": "b287cb2c-5734-4e62-a4fe-a76415400e99",
   "metadata": {},
   "outputs": [
    {
     "name": "stdin",
     "output_type": "stream",
     "text": [
      "Enter no or a string : 252\n"
     ]
    },
    {
     "name": "stdout",
     "output_type": "stream",
     "text": [
      "True\n"
     ]
    }
   ],
   "source": [
    "# Check palindrome number\n",
    "forPalindrome=input(\"Enter no or a string :\")\n",
    "newPalindrome=forPalindrome[::-1]\n",
    "if(forPalindrome==newPalindrome):\n",
    "    #print(\"Yes, This is a palindrome number OR String\")\n",
    "    print(True)\n",
    "else:\n",
    "    #print(\"No, This is not a palindrome number OR String\")\n",
    "    print(False)"
   ]
  },
  {
   "cell_type": "code",
   "execution_count": 47,
   "id": "a1b0833e-f8cb-494f-a00f-3096f2db5cc3",
   "metadata": {},
   "outputs": [
    {
     "name": "stdout",
     "output_type": "stream",
     "text": [
      "\n",
      "* \n",
      "* * \n",
      "* * * \n",
      "* * * * \n",
      "* * * * * \n"
     ]
    }
   ],
   "source": [
    "# pattern\n",
    "for i in range(6):\n",
    "    for j in range(i):\n",
    "        print(\"*\",end=\" \")\n",
    "    print()"
   ]
  },
  {
   "cell_type": "code",
   "execution_count": 39,
   "id": "418ce50f-59f5-4335-98d1-09ece3fb6d90",
   "metadata": {},
   "outputs": [
    {
     "name": "stdout",
     "output_type": "stream",
     "text": [
      "* * * * * \n",
      "* * * * \n",
      "* * * \n",
      "* * \n",
      "* \n"
     ]
    }
   ],
   "source": [
    "# pattern\n",
    "for i in range(5):\n",
    "    for j in range(i,5):\n",
    "        print(\"*\",end=\" \")\n",
    "    print()"
   ]
  },
  {
   "cell_type": "code",
   "execution_count": 50,
   "id": "b9bb5bca-3f20-48c4-97b4-f63b6e98b53d",
   "metadata": {},
   "outputs": [
    {
     "name": "stdout",
     "output_type": "stream",
     "text": [
      "     *\n",
      "    ***\n",
      "   *****\n",
      "  *******\n",
      " *********\n",
      "***********\n"
     ]
    }
   ],
   "source": [
    "# Pyramid pattern\n",
    "n=6\n",
    "for i in range(n):\n",
    "    for j in range(n-i-1):\n",
    "        print(\" \",end=\"\")\n",
    "    for k in range(i*2+1):        \n",
    "        print(\"*\",end=\"\")\n",
    "    print()"
   ]
  },
  {
   "cell_type": "code",
   "execution_count": 1,
   "id": "182818d9-c2dd-4d1f-a39e-48ac8ebd81a2",
   "metadata": {},
   "outputs": [
    {
     "name": "stdout",
     "output_type": "stream",
     "text": [
      "2\n"
     ]
    }
   ],
   "source": [
    "# floor division\n",
    "a=5\n",
    "b=2\n",
    "ans=a//b\n",
    "print(ans)\n"
   ]
  },
  {
   "cell_type": "code",
   "execution_count": 2,
   "id": "77ba8381-2781-4dbe-88bb-c5a749794160",
   "metadata": {},
   "outputs": [
    {
     "ename": "NameError",
     "evalue": "name 'C' is not defined",
     "output_type": "error",
     "traceback": [
      "\u001b[1;31m---------------------------------------------------------------------------\u001b[0m",
      "\u001b[1;31mNameError\u001b[0m                                 Traceback (most recent call last)",
      "Cell \u001b[1;32mIn[2], line 1\u001b[0m\n\u001b[1;32m----> 1\u001b[0m \u001b[43mC\u001b[49m\n\u001b[0;32m      2\u001b[0m Print(C)\n",
      "\u001b[1;31mNameError\u001b[0m: name 'C' is not defined"
     ]
    }
   ],
   "source": [
    "C\n",
    "Print(C)"
   ]
  },
  {
   "cell_type": "code",
   "execution_count": 1,
   "id": "20a5ab69-1b85-4252-aab2-b4f58e499433",
   "metadata": {},
   "outputs": [
    {
     "name": "stdout",
     "output_type": "stream",
     "text": [
      "['He', 'is', 'go', 'to', 'home']\n",
      "5\n"
     ]
    }
   ],
   "source": [
    "# split function store the all word in a list string format\n",
    "name=\"He is go to home\"\n",
    "n=name.split()\n",
    "print(n)\n",
    "print(len(n))"
   ]
  },
  {
   "cell_type": "code",
   "execution_count": 2,
   "id": "cc3dae1d-b6e0-4927-a485-c1fb815862d1",
   "metadata": {},
   "outputs": [
    {
     "name": "stdout",
     "output_type": "stream",
     "text": [
      "20 and 10 and 30\n"
     ]
    }
   ],
   "source": [
    "# Foramt function for indexing\n",
    "a=10\n",
    "b=20\n",
    "c=30\n",
    "print(\"{1} and {0} and {2}\".format(a,b,c))"
   ]
  },
  {
   "cell_type": "code",
   "execution_count": 3,
   "id": "5d13e878-49a8-4ff1-bb49-9ee5709367ee",
   "metadata": {},
   "outputs": [
    {
     "name": "stdout",
     "output_type": "stream",
     "text": [
      "300 and 200 and 100\n"
     ]
    }
   ],
   "source": [
    "# Foramt function for indexing\n",
    "a,b,c=100,200,300\n",
    "print(\"{0} and {2} and {1}\".format(c,a,b))"
   ]
  },
  {
   "cell_type": "code",
   "execution_count": 5,
   "id": "1a1d5c07-6908-4ad0-b663-c0981998e965",
   "metadata": {},
   "outputs": [
    {
     "name": "stdout",
     "output_type": "stream",
     "text": [
      "Size of an integer: 28 bytes\n",
      "Size of a float: 24 bytes\n",
      "Size of an empty string: 45 bytes\n",
      "Size of an empty list: 56 bytes\n",
      "Size of an empty dictionary: 64 bytes\n",
      "Size of an empty tuple: 40 bytes\n"
     ]
    }
   ],
   "source": [
    "# Datatype and it's size\n",
    "import sys\n",
    "int_size = sys.getsizeof(0)\n",
    "float_size = sys.getsizeof(0.0)\n",
    "str_size = sys.getsizeof(\"rama\")\n",
    "list_size = sys.getsizeof([])\n",
    "dict_size = sys.getsizeof({})\n",
    "tuple_size = sys.getsizeof(())\n",
    "print(f\"Size of an integer: {int_size} bytes\")\n",
    "print(f\"Size of a float: {float_size} bytes\")\n",
    "print(f\"Size of an empty string: {str_size} bytes\")\n",
    "print(f\"Size of an empty list: {list_size} bytes\")\n",
    "print(f\"Size of an empty dictionary: {dict_size} bytes\")\n",
    "print(f\"Size of an empty tuple: {tuple_size} bytes\")"
   ]
  },
  {
   "cell_type": "code",
   "execution_count": 6,
   "id": "7c4155d1-a96c-49d7-8809-73a7f1a5a90f",
   "metadata": {},
   "outputs": [
    {
     "name": "stdout",
     "output_type": "stream",
     "text": [
      "aam\n"
     ]
    }
   ],
   "source": [
    "# Replace function\n",
    "s='ram'\n",
    "print(s.replace('r','a'))"
   ]
  },
  {
   "cell_type": "code",
   "execution_count": 7,
   "id": "3f180cc5-75b1-440b-bef9-3f32e3ac1350",
   "metadata": {},
   "outputs": [
    {
     "name": "stdout",
     "output_type": "stream",
     "text": [
      "True\n",
      "[1, 'a', 2.4, 5]\n",
      "5\n"
     ]
    }
   ],
   "source": [
    "#list is mutable\n",
    "a=[1,'a',2.4,True]\n",
    "print(a[3])\n",
    "a[3]=5\n",
    "print(a)\n",
    "print(a[3])"
   ]
  },
  {
   "cell_type": "code",
   "execution_count": 8,
   "id": "ce8c7509-a2c6-4a41-a6d3-217f30580456",
   "metadata": {},
   "outputs": [
    {
     "name": "stdout",
     "output_type": "stream",
     "text": [
      "Append : [2, 4, 'ram']\n",
      "Insert : [5, 2, 4, 'ram']\n",
      "Remove : [5, 4, 'ram']\n",
      "Index : 1\n"
     ]
    }
   ],
   "source": [
    "# Append, insert, remove, index function in list\n",
    "a=[2,4]\n",
    "a.append(\"ram\")\n",
    "print(\"Append :\",a)\n",
    "a.insert(0,5)\n",
    "print(\"Insert :\",a)\n",
    "a.remove(2)\n",
    "print(\"Remove :\",a)\n",
    "\n",
    "print(\"Index :\",a.index(4))"
   ]
  },
  {
   "cell_type": "code",
   "execution_count": 9,
   "id": "631e4158-ca15-4965-b0bf-a8d388996f0e",
   "metadata": {},
   "outputs": [
    {
     "name": "stdout",
     "output_type": "stream",
     "text": [
      "Kujarat"
     ]
    }
   ],
   "source": [
    "#Write a python programm to replace first letter of the any word.......\n",
    "#like : 'G' replace with 'K'\n",
    "Guj=\"Gujarat\"\n",
    "def strVal(strReplace):\n",
    "    for i in strReplace:\n",
    "        if(i=='G'):\n",
    "            print('K',end=\"\")\n",
    "        else:\n",
    "            print(i,end=\"\")\n",
    "strVal(Guj)"
   ]
  },
  {
   "cell_type": "code",
   "execution_count": 10,
   "id": "98231e83-49f5-41a1-8c48-e3737cc90370",
   "metadata": {},
   "outputs": [
    {
     "ename": "ValueError",
     "evalue": "substring not found",
     "output_type": "error",
     "traceback": [
      "\u001b[1;31m---------------------------------------------------------------------------\u001b[0m",
      "\u001b[1;31mValueError\u001b[0m                                Traceback (most recent call last)",
      "Cell \u001b[1;32mIn[10], line 2\u001b[0m\n\u001b[0;32m      1\u001b[0m findStr\u001b[38;5;241m=\u001b[39m\u001b[38;5;124m\"\u001b[39m\u001b[38;5;124mNandnji\u001b[39m\u001b[38;5;124m\"\u001b[39m\n\u001b[1;32m----> 2\u001b[0m \u001b[43mfindStr\u001b[49m\u001b[38;5;241;43m.\u001b[39;49m\u001b[43mindex\u001b[49m\u001b[43m(\u001b[49m\u001b[38;5;124;43m'\u001b[39;49m\u001b[38;5;124;43mz\u001b[39;49m\u001b[38;5;124;43m'\u001b[39;49m\u001b[43m)\u001b[49m\n",
      "\u001b[1;31mValueError\u001b[0m: substring not found"
     ]
    }
   ],
   "source": [
    "findStr=\"Nandnji\"\n",
    "findStr.index('z')"
   ]
  },
  {
   "cell_type": "code",
   "execution_count": 11,
   "id": "ffbfe191-b41e-489f-a66b-709e7f01a328",
   "metadata": {},
   "outputs": [
    {
     "name": "stdout",
     "output_type": "stream",
     "text": [
      "<class 'str'>\n"
     ]
    }
   ],
   "source": [
    "# explicit type\n",
    "li=[1,2,3,4]\n",
    "k=str(li)\n",
    "print(type(k))"
   ]
  },
  {
   "cell_type": "code",
   "execution_count": null,
   "id": "b7fb27bd-915f-46ce-b37b-bb9dacb9d886",
   "metadata": {},
   "outputs": [],
   "source": [
    "# Position of True\n",
    "li=[1,'a',2.5,True]\n",
    "k=li.index(True)\n",
    "print(k)"
   ]
  },
  {
   "cell_type": "code",
   "execution_count": 12,
   "id": "be28dcf5-d45b-4d19-bec1-48e20d6a7952",
   "metadata": {},
   "outputs": [
    {
     "name": "stdout",
     "output_type": "stream",
     "text": [
      "Odd : 1\n",
      "Even : 2\n",
      "Even : 10\n",
      "Even : 4\n",
      "Odd : 5\n",
      "Even : 6\n",
      "Odd : 7\n",
      "Odd : True\n",
      "Even : False\n"
     ]
    }
   ],
   "source": [
    "# find the odd and even number in a list\n",
    "li=[1,2,10,4,5,6,7,True,False]\n",
    "for i in range(len(li)):\n",
    "    if(li[i]%2==0):\n",
    "        print(\"Even :\",li[i])\n",
    "    else:\n",
    "        print(\"Odd :\",li[i])"
   ]
  },
  {
   "cell_type": "code",
   "execution_count": 13,
   "id": "4f252634-e57d-4813-a0b4-fc2a4ede8480",
   "metadata": {},
   "outputs": [
    {
     "name": "stdout",
     "output_type": "stream",
     "text": [
      "Odd : 1\n",
      "Even : 2\n",
      "Even : 10\n",
      "Even : 4\n",
      "Odd : 5\n",
      "Even : 6\n",
      "Odd : 7\n",
      "Odd : True\n",
      "Even : False\n"
     ]
    },
    {
     "ename": "TypeError",
     "evalue": "not all arguments converted during string formatting",
     "output_type": "error",
     "traceback": [
      "\u001b[1;31m---------------------------------------------------------------------------\u001b[0m",
      "\u001b[1;31mTypeError\u001b[0m                                 Traceback (most recent call last)",
      "Cell \u001b[1;32mIn[13], line 3\u001b[0m\n\u001b[0;32m      1\u001b[0m li\u001b[38;5;241m=\u001b[39m[\u001b[38;5;241m1\u001b[39m,\u001b[38;5;241m2\u001b[39m,\u001b[38;5;241m10\u001b[39m,\u001b[38;5;241m4\u001b[39m,\u001b[38;5;241m5\u001b[39m,\u001b[38;5;241m6\u001b[39m,\u001b[38;5;241m7\u001b[39m,\u001b[38;5;28;01mTrue\u001b[39;00m,\u001b[38;5;28;01mFalse\u001b[39;00m,\u001b[38;5;124m'\u001b[39m\u001b[38;5;124mk\u001b[39m\u001b[38;5;124m'\u001b[39m]\n\u001b[0;32m      2\u001b[0m \u001b[38;5;28;01mfor\u001b[39;00m i \u001b[38;5;129;01min\u001b[39;00m \u001b[38;5;28mrange\u001b[39m(\u001b[38;5;28mlen\u001b[39m(li)):\n\u001b[1;32m----> 3\u001b[0m     \u001b[38;5;28;01mif\u001b[39;00m(\u001b[43mli\u001b[49m\u001b[43m[\u001b[49m\u001b[43mi\u001b[49m\u001b[43m]\u001b[49m\u001b[38;5;241;43m%\u001b[39;49m\u001b[38;5;241;43m2\u001b[39;49m\u001b[38;5;241m==\u001b[39m\u001b[38;5;241m0\u001b[39m):\n\u001b[0;32m      4\u001b[0m         \u001b[38;5;28mprint\u001b[39m(\u001b[38;5;124m\"\u001b[39m\u001b[38;5;124mEven :\u001b[39m\u001b[38;5;124m\"\u001b[39m,li[i])\n\u001b[0;32m      5\u001b[0m     \u001b[38;5;28;01melse\u001b[39;00m:\n",
      "\u001b[1;31mTypeError\u001b[0m: not all arguments converted during string formatting"
     ]
    }
   ],
   "source": [
    "# find the odd and even number in a list\n",
    "li=[1,2,10,4,5,6,7,True,False,'k']\n",
    "for i in range(len(li)):\n",
    "    if(li[i]%2==0):\n",
    "        print(\"Even :\",li[i])\n",
    "    else:\n",
    "        print(\"Odd :\",li[i])"
   ]
  },
  {
   "cell_type": "code",
   "execution_count": 14,
   "id": "4258ca8a-a27c-4ba6-b68d-9584ff5ff071",
   "metadata": {},
   "outputs": [
    {
     "name": "stdout",
     "output_type": "stream",
     "text": [
      "Even numbers: [2, 10, 4, 6, False]\n",
      "Odd numbers: [1, 5, 7, True]\n"
     ]
    }
   ],
   "source": [
    "# find the odd and even number in a list\n",
    "li = [1, 2, 10, 4, 5, 6, 7, True, False, 'k']\n",
    "\n",
    "even_numbers = []\n",
    "odd_numbers = []\n",
    "\n",
    "for item in li:\n",
    "    if isinstance(item, int):  # Check if the item is an integer\n",
    "        if item % 2 == 0:\n",
    "            even_numbers.append(item)\n",
    "        else:\n",
    "            odd_numbers.append(item)\n",
    "\n",
    "print(\"Even numbers:\", even_numbers)\n",
    "print(\"Odd numbers:\", odd_numbers)"
   ]
  },
  {
   "cell_type": "code",
   "execution_count": 48,
   "id": "d92fd068-dbf0-4957-96c4-9bd8256c44c3",
   "metadata": {},
   "outputs": [
    {
     "name": "stdout",
     "output_type": "stream",
     "text": [
      "He\n",
      "['He', 'is', 'a', 'man', 'but', 'He', 'is', 'a', 'human']\n",
      "is\n",
      "['He', 'is', 'a', 'man', 'but', 'He', 'is', 'a', 'human']\n",
      "a\n",
      "['He', 'is', 'a', 'man', 'but', 'He', 'is', 'a', 'human']\n",
      "man\n",
      "['He', 'is', 'a', 'man', 'but', 'He', 'is', 'a', 'human']\n",
      "but\n",
      "['He', 'is', 'a', 'man', 'but', 'He', 'is', 'a', 'human']\n",
      "He\n",
      "['He', 'is', 'a', 'man', 'but', 'He', 'is', 'a', 'human']\n",
      "is\n",
      "['He', 'is', 'a', 'man', 'but', 'He', 'is', 'a', 'human']\n",
      "a\n",
      "['He', 'is', 'a', 'man', 'but', 'He', 'is', 'a', 'human']\n",
      "human\n",
      "['He', 'is', 'a', 'man', 'but', 'He', 'is', 'a', 'human']\n"
     ]
    }
   ],
   "source": [
    "\n",
    "StrVal=\"He is a man but He is a human\"\n",
    "strList=['He', 'is', 'a', 'man', 'but', 'He', 'is', 'a', 'human']\n",
    "splitVal=StrVal.split()\n",
    "#print(splitVal)\n",
    "for i in strList:\n",
    "    print(i)\n",
    "    print(strList)\n",
    "    #print(i.split())\n",
    "    # if(i.split()==splitVal):\n",
    "    #     print(i)\n",
    "    \n",
    "# setVal=set(splitVal)\n",
    "\n",
    "# print(\"Toatl unique word type :\",setVal)\n",
    "# print(\"Number of unique word :\",len(setVal))"
   ]
  },
  {
   "cell_type": "code",
   "execution_count": null,
   "id": "bddb6f00-4393-4c3b-9661-dc93c194b8a0",
   "metadata": {},
   "outputs": [],
   "source": []
  },
  {
   "cell_type": "code",
   "execution_count": null,
   "id": "73951302-4553-458a-9133-c37ef31b21f9",
   "metadata": {},
   "outputs": [],
   "source": []
  },
  {
   "cell_type": "code",
   "execution_count": null,
   "id": "f0635814-f04b-471b-bde2-d089b15f3646",
   "metadata": {},
   "outputs": [],
   "source": []
  },
  {
   "cell_type": "code",
   "execution_count": null,
   "id": "5755140e-9ae1-4a80-b05c-695ef398fbf6",
   "metadata": {},
   "outputs": [],
   "source": []
  },
  {
   "cell_type": "code",
   "execution_count": null,
   "id": "a125ae24-a87d-4696-95f0-cac51e818c39",
   "metadata": {},
   "outputs": [],
   "source": []
  },
  {
   "cell_type": "code",
   "execution_count": null,
   "id": "e924c451-0e1e-4040-9a75-b6c830139b2d",
   "metadata": {},
   "outputs": [],
   "source": []
  },
  {
   "cell_type": "code",
   "execution_count": null,
   "id": "711875c5-bb7e-44a1-9b7e-4ec60c4eb56f",
   "metadata": {},
   "outputs": [],
   "source": []
  },
  {
   "cell_type": "code",
   "execution_count": null,
   "id": "a25a866d-5ced-4937-91b9-bff4909c4193",
   "metadata": {},
   "outputs": [],
   "source": []
  },
  {
   "cell_type": "code",
   "execution_count": null,
   "id": "40c3b532-d87f-4305-a770-2f2fa749fba8",
   "metadata": {},
   "outputs": [],
   "source": []
  },
  {
   "cell_type": "code",
   "execution_count": null,
   "id": "ff4faf1d-7fa8-41dd-b8af-39647731ab17",
   "metadata": {},
   "outputs": [],
   "source": []
  },
  {
   "cell_type": "code",
   "execution_count": null,
   "id": "8d011d62-5c1b-4d03-99e4-be387d7b3905",
   "metadata": {},
   "outputs": [],
   "source": []
  },
  {
   "cell_type": "code",
   "execution_count": null,
   "id": "eee141a1-db25-4439-a296-d0f005f1f2b6",
   "metadata": {},
   "outputs": [],
   "source": []
  },
  {
   "cell_type": "code",
   "execution_count": null,
   "id": "e5e20869-3426-4dd3-98b2-44bdd213596f",
   "metadata": {},
   "outputs": [],
   "source": []
  },
  {
   "cell_type": "code",
   "execution_count": null,
   "id": "7b159a75-a3b4-4641-8202-eb5c525e3a12",
   "metadata": {},
   "outputs": [],
   "source": []
  },
  {
   "cell_type": "code",
   "execution_count": null,
   "id": "c0894918-c5ba-421a-97c0-95b890a9e194",
   "metadata": {},
   "outputs": [],
   "source": []
  },
  {
   "cell_type": "code",
   "execution_count": null,
   "id": "89d609bd-85e5-4159-972a-cd0567d48436",
   "metadata": {},
   "outputs": [],
   "source": []
  },
  {
   "cell_type": "code",
   "execution_count": null,
   "id": "4525dd97-0aa8-40f6-a8a3-336c3ac4eb12",
   "metadata": {},
   "outputs": [],
   "source": []
  },
  {
   "cell_type": "code",
   "execution_count": null,
   "id": "95896ac6-2336-4e92-b799-d94f14397511",
   "metadata": {},
   "outputs": [],
   "source": []
  },
  {
   "cell_type": "code",
   "execution_count": null,
   "id": "1a5f3b8d-c1bd-4ecb-875c-9f660520c782",
   "metadata": {},
   "outputs": [],
   "source": []
  },
  {
   "cell_type": "code",
   "execution_count": null,
   "id": "fe7f5fc9-e7c8-4ada-93d4-1fd3b64dbd7c",
   "metadata": {},
   "outputs": [],
   "source": []
  },
  {
   "cell_type": "code",
   "execution_count": null,
   "id": "4d67b7cf-c1e0-4189-874e-21130ca9fd7a",
   "metadata": {},
   "outputs": [],
   "source": []
  },
  {
   "cell_type": "code",
   "execution_count": null,
   "id": "f3e96a52-137b-4df0-bd7f-1a262bee9ba0",
   "metadata": {},
   "outputs": [],
   "source": []
  },
  {
   "cell_type": "code",
   "execution_count": null,
   "id": "2b275d94-75f9-42c6-8580-6ed425b62080",
   "metadata": {},
   "outputs": [],
   "source": []
  },
  {
   "cell_type": "code",
   "execution_count": null,
   "id": "35955a1b-c99b-4f77-8d99-c7f2224007c4",
   "metadata": {},
   "outputs": [],
   "source": []
  },
  {
   "cell_type": "code",
   "execution_count": null,
   "id": "31135354-c714-4f63-80f8-77b5c36103be",
   "metadata": {},
   "outputs": [],
   "source": []
  },
  {
   "cell_type": "code",
   "execution_count": null,
   "id": "81167514-0ded-417f-92a0-df0a1c55786f",
   "metadata": {},
   "outputs": [],
   "source": []
  },
  {
   "cell_type": "code",
   "execution_count": null,
   "id": "9d6bc120-a264-47bb-bb10-32baa7d12030",
   "metadata": {},
   "outputs": [],
   "source": []
  },
  {
   "cell_type": "code",
   "execution_count": null,
   "id": "c703ad45-4724-4d82-b4b4-68040b8a417c",
   "metadata": {},
   "outputs": [],
   "source": []
  },
  {
   "cell_type": "code",
   "execution_count": null,
   "id": "f6516539-de04-4f4e-a0fd-9d304913c672",
   "metadata": {},
   "outputs": [],
   "source": []
  },
  {
   "cell_type": "code",
   "execution_count": null,
   "id": "f0f46171-ccd6-4e31-a97d-22ce37077ceb",
   "metadata": {},
   "outputs": [],
   "source": []
  },
  {
   "cell_type": "code",
   "execution_count": 16,
   "id": "676d0611-daae-4183-8443-f67dc717e279",
   "metadata": {},
   "outputs": [
    {
     "name": "stdout",
     "output_type": "stream",
     "text": [
      "{'girl', 'good', 'a', 'work', 'is', 'and', 'Hemu', 'her'}\n",
      "8\n"
     ]
    }
   ],
   "source": [
    "uni=\"Hemu is a good girl and good her work is a\"\n",
    "listuni=uni.split()\n",
    "setuni=set(listuni)\n",
    "print(setuni)\n",
    "print(len(setuni))\n"
   ]
  }
 ],
 "metadata": {
  "kernelspec": {
   "display_name": "Python 3 (ipykernel)",
   "language": "python",
   "name": "python3"
  },
  "language_info": {
   "codemirror_mode": {
    "name": "ipython",
    "version": 3
   },
   "file_extension": ".py",
   "mimetype": "text/x-python",
   "name": "python",
   "nbconvert_exporter": "python",
   "pygments_lexer": "ipython3",
   "version": "3.12.2"
  }
 },
 "nbformat": 4,
 "nbformat_minor": 5
}
